{
 "cells": [
  {
   "cell_type": "code",
   "execution_count": 1,
   "id": "99f7e38d-16ba-4a95-b54a-40253a2ca947",
   "metadata": {},
   "outputs": [],
   "source": [
    "import pandas as pd\n",
    "import matplotlib.pyplot as plt\n",
    "import seaborn as sns\n",
    "import re\n",
    "import os"
   ]
  },
  {
   "cell_type": "code",
   "execution_count": 2,
   "id": "a404e9e7-337c-40a6-989d-e2705154dc58",
   "metadata": {},
   "outputs": [
    {
     "name": "stdout",
     "output_type": "stream",
     "text": [
      "Current working directory: C:\\Users\\Skyline\\Intelligent-Complaint-Analysis-for-Financial-Services\n"
     ]
    },
    {
     "name": "stderr",
     "output_type": "stream",
     "text": [
      "C:\\Users\\Skyline\\AppData\\Local\\Temp\\ipykernel_11060\\1002842797.py:5: DtypeWarning: Columns (16) have mixed types. Specify dtype option on import or set low_memory=False.\n",
      "  df = pd.read_csv('data/complaints.csv')\n"
     ]
    },
    {
     "name": "stdout",
     "output_type": "stream",
     "text": [
      "Dataset loaded successfully.\n",
      "Dataset columns: ['Date received', 'Product', 'Sub-product', 'Issue', 'Sub-issue', 'Consumer complaint narrative', 'Company public response', 'Company', 'State', 'ZIP code', 'Tags', 'Consumer consent provided?', 'Submitted via', 'Date sent to company', 'Company response to consumer', 'Timely response?', 'Consumer disputed?', 'Complaint ID']\n",
      "Word Count Summary Statistics:\n",
      "count    9.609797e+06\n",
      "mean     5.446667e+01\n",
      "std      1.497672e+02\n",
      "min      0.000000e+00\n",
      "25%      0.000000e+00\n",
      "50%      0.000000e+00\n",
      "75%      5.000000e+01\n",
      "max      6.469000e+03\n",
      "Name: word_count, dtype: float64\n",
      "Number of very short narratives (<10 words): 6650979\n",
      "Number of very long narratives (>500 words): 160989\n",
      "Complaints with narratives: 2980756\n",
      "Complaints without narratives: 6629041\n",
      "Number of complaints after filtering: 554979\n",
      "Number of complaints after removing empty narratives: 232193\n",
      "Number of complaints after sampling (500 rows): 500\n",
      "Reduced cleaned dataset saved to data/complaints_cleaned.csv\n"
     ]
    }
   ],
   "source": [
    "os.chdir('C:/Users/Skyline/Intelligent-Complaint-Analysis-for-Financial-Services')\n",
    "print(f'Current working directory: {os.getcwd()}')\n",
    "\n",
    "try:\n",
    "    df = pd.read_csv('data/complaints.csv')\n",
    "    print('Dataset loaded successfully.')\n",
    "except FileNotFoundError:\n",
    "    print('Error: complaints.csv not found.')\n",
    "    raise\n",
    "\n",
    "print('Dataset columns:', df.columns.tolist())\n",
    "\n",
    "df['word_count'] = df['Consumer complaint narrative'].apply(lambda x: len(str(x).split()) if pd.notnull(x) else 0)\n",
    "\n",
    "plt.figure(figsize=(10, 6))\n",
    "sns.histplot(df['word_count'], bins=50)\n",
    "plt.title('Distribution of Complaint Narrative Word Counts')\n",
    "plt.xlabel('Word Count')\n",
    "plt.ylabel('Frequency')\n",
    "plt.savefig('data/word_count_distribution.png')\n",
    "plt.close()\n",
    "\n",
    "print('Word Count Summary Statistics:')\n",
    "print(df['word_count'].describe())\n",
    "\n",
    "short_narratives = df[df['word_count'] < 10]\n",
    "long_narratives = df[df['word_count'] > 500]\n",
    "print(f'Number of very short narratives (<10 words): {len(short_narratives)}')\n",
    "print(f'Number of very long narratives (>500 words): {len(long_narratives)}')\n",
    "\n",
    "complaints_with_narratives = df[df['Consumer complaint narrative'].notnull()]\n",
    "complaints_without_narratives = df[df['Consumer complaint narrative'].isnull()]\n",
    "print(f'Complaints with narratives: {len(complaints_with_narratives)}')\n",
    "print(f'Complaints without narratives: {len(complaints_without_narratives)}')\n",
    "\n",
    "relevant_products = ['Credit card', 'Consumer Loan', 'Payday loan', 'Checking or savings account', 'Money transfer']\n",
    "df_filtered = df[df['Product'].isin(relevant_products)]\n",
    "print(f'Number of complaints after filtering: {len(df_filtered)}')\n",
    "\n",
    "df_filtered = df_filtered[df_filtered['Consumer complaint narrative'].notnull()]\n",
    "print(f'Number of complaints after removing empty narratives: {len(df_filtered)}')\n",
    "\n",
    "def clean_text(text):\n",
    "    if pd.notnull(text):\n",
    "        text = text.lower()\n",
    "        text = re.sub(r'[^a-z0-9\\s]', '', text)\n",
    "        boilerplate = r'\\bi\\s+am\\s+writing\\s+to\\s+file\\s+a\\s+complaint\\b'\n",
    "        text = re.sub(boilerplate, '', text, flags=re.IGNORECASE)\n",
    "        text = ' '.join(text.split())\n",
    "        return text\n",
    "    return text\n",
    "\n",
    "df_filtered['Consumer complaint narrative'] = df_filtered['Consumer complaint narrative'].apply(clean_text)\n",
    "\n",
    "df_filtered = df_filtered.sample(n=500, random_state=42)\n",
    "print(f'Number of complaints after sampling (500 rows): {len(df_filtered)}')\n",
    "\n",
    "df_filtered.to_csv('data/complaints_cleaned.csv', index=False)\n",
    "print('Reduced cleaned dataset saved to data/complaints_cleaned.csv')"
   ]
  },
  {
   "cell_type": "code",
   "execution_count": null,
   "id": "cc7a7662-855a-43b1-aa06-ecc7ed51dd34",
   "metadata": {},
   "outputs": [],
   "source": []
  }
 ],
 "metadata": {
  "kernelspec": {
   "display_name": "Python 3 (ipykernel)",
   "language": "python",
   "name": "python3"
  },
  "language_info": {
   "codemirror_mode": {
    "name": "ipython",
    "version": 3
   },
   "file_extension": ".py",
   "mimetype": "text/x-python",
   "name": "python",
   "nbconvert_exporter": "python",
   "pygments_lexer": "ipython3",
   "version": "3.11.9"
  }
 },
 "nbformat": 4,
 "nbformat_minor": 5
}
